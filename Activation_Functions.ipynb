{
  "nbformat": 4,
  "nbformat_minor": 0,
  "metadata": {
    "colab": {
      "name": "Lab1.ipynb",
      "provenance": [],
      "collapsed_sections": []
    },
    "kernelspec": {
      "name": "python3",
      "display_name": "Python 3"
    }
  },
  "cells": [
    {
      "cell_type": "code",
      "metadata": {
        "id": "bz_uigXnLUtz",
        "colab_type": "code",
        "colab": {}
      },
      "source": [
        "import numpy as np\n",
        "import matplotlib.pyplot as plt\n"
      ],
      "execution_count": 0,
      "outputs": []
    },
    {
      "cell_type": "code",
      "metadata": {
        "id": "2FrN0_DFLdsT",
        "colab_type": "code",
        "outputId": "07f772d6-cca6-498e-adfa-84546717ac00",
        "colab": {
          "base_uri": "https://localhost:8080/"
        }
      },
      "source": [
        "def sig_moid(x):\n",
        "  return 1/(1+np.exp(-x))\n",
        "\n",
        "x=list(range(-10,11))\n",
        "xx=np.array(x)\n",
        "print(xx)"
      ],
      "execution_count": 0,
      "outputs": [
        {
          "output_type": "stream",
          "text": [
            "[-10  -9  -8  -7  -6  -5  -4  -3  -2  -1   0   1   2   3   4   5   6   7\n",
            "   8   9  10]\n"
          ],
          "name": "stdout"
        }
      ]
    },
    {
      "cell_type": "code",
      "metadata": {
        "id": "W2hjkuQ0MZhi",
        "colab_type": "code",
        "colab": {}
      },
      "source": [
        "y=sig_moid(xx)"
      ],
      "execution_count": 0,
      "outputs": []
    },
    {
      "cell_type": "code",
      "metadata": {
        "id": "4sk09rhDMifh",
        "colab_type": "code",
        "outputId": "8ac0d530-c887-469d-cc38-213d1f308d53",
        "colab": {
          "base_uri": "https://localhost:8080/",
          "height": 121
        }
      },
      "source": [
        "print(y)"
      ],
      "execution_count": 0,
      "outputs": [
        {
          "output_type": "stream",
          "text": [
            "[4.53978687e-05 1.23394576e-04 3.35350130e-04 9.11051194e-04\n",
            " 2.47262316e-03 6.69285092e-03 1.79862100e-02 4.74258732e-02\n",
            " 1.19202922e-01 2.68941421e-01 5.00000000e-01 7.31058579e-01\n",
            " 8.80797078e-01 9.52574127e-01 9.82013790e-01 9.93307149e-01\n",
            " 9.97527377e-01 9.99088949e-01 9.99664650e-01 9.99876605e-01\n",
            " 9.99954602e-01]\n"
          ],
          "name": "stdout"
        }
      ]
    },
    {
      "cell_type": "code",
      "metadata": {
        "id": "jDK8bz1VMkxq",
        "colab_type": "code",
        "outputId": "fa84fb33-5ad6-485d-98bc-f766d5acb58d",
        "colab": {
          "base_uri": "https://localhost:8080/",
          "height": 282
        }
      },
      "source": [
        "plt.plot(xx,y)"
      ],
      "execution_count": 0,
      "outputs": [
        {
          "output_type": "execute_result",
          "data": {
            "text/plain": [
              "[<matplotlib.lines.Line2D at 0x7f46412409b0>]"
            ]
          },
          "metadata": {
            "tags": []
          },
          "execution_count": 5
        },
        {
          "output_type": "display_data",
          "data": {
            "image/png": "[encoded data removed]",
            "text/plain": [
              "<Figure size 432x288 with 1 Axes>"
            ]
          },
          "metadata": {
            "tags": []
          }
        }
      ]
    },
    {
      "cell_type": "code",
      "metadata": {
        "id": "hfPgYFvGMoyZ",
        "colab_type": "code",
        "outputId": "8cfdd1f0-dedd-4384-de84-8d906dcd41df",
        "colab": {
          "base_uri": "https://localhost:8080/",
          "height": 52
        }
      },
      "source": [
        "print(xx)"
      ],
      "execution_count": 0,
      "outputs": [
        {
          "output_type": "stream",
          "text": [
            "[-10  -9  -8  -7  -6  -5  -4  -3  -2  -1   0   1   2   3   4   5   6   7\n",
            "   8   9  10]\n"
          ],
          "name": "stdout"
        }
      ]
    },
    {
      "cell_type": "code",
      "metadata": {
        "id": "bQAPv-qrNkPi",
        "colab_type": "code",
        "outputId": "4e24d85f-a7d7-47df-cd66-19991dd15404",
        "colab": {
          "base_uri": "https://localhost:8080/",
          "height": 282
        }
      },
      "source": [
        "def tanh(x):\n",
        "  return (1-np.exp(-2*x))/(1+np.exp(-2*x))\n",
        "\n",
        "y=tanh(xx)\n",
        "plt.plot(xx,y)"
      ],
      "execution_count": 0,
      "outputs": [
        {
          "output_type": "execute_result",
          "data": {
            "text/plain": [
              "[<matplotlib.lines.Line2D at 0x7f4640d1ab00>]"
            ]
          },
          "metadata": {
            "tags": []
          },
          "execution_count": 7
        },
        {
          "output_type": "display_data",
          "data": {
            "image/png": "[encoded data removed]",
            "text/plain": [
              "<Figure size 432x288 with 1 Axes>"
            ]
          },
          "metadata": {
            "tags": []
          }
        }
      ]
    },
    {
      "cell_type": "code",
      "metadata": {
        "id": "jILjOFsNPFRC",
        "colab_type": "code",
        "colab": {}
      },
      "source": [
        ""
      ],
      "execution_count": 0,
      "outputs": []
    },
    {
      "cell_type": "markdown",
      "metadata": {
        "id": "EQDxHLlGPJwT",
        "colab_type": "text"
      },
      "source": [
        "ReLU"
      ]
    },
    {
      "cell_type": "code",
      "metadata": {
        "id": "t--Uu-q8PXCp",
        "colab_type": "code",
        "outputId": "58625327-e7a1-4bc3-a2af-0a11fd414180",
        "colab": {
          "base_uri": "https://localhost:8080/",
          "height": 317
        }
      },
      "source": [
        "def relu(x):\n",
        "  return ((x+np.abs(x))/2)\n",
        "  \n",
        "print(xx)\n",
        "y=relu(xx)\n",
        "\n",
        "plt.plot(xx,y)"
      ],
      "execution_count": 0,
      "outputs": [
        {
          "output_type": "stream",
          "text": [
            "[-10  -9  -8  -7  -6  -5  -4  -3  -2  -1   0   1   2   3   4   5   6   7\n",
            "   8   9  10]\n"
          ],
          "name": "stdout"
        },
        {
          "output_type": "execute_result",
          "data": {
            "text/plain": [
              "[<matplotlib.lines.Line2D at 0x7f4640c9b080>]"
            ]
          },
          "metadata": {
            "tags": []
          },
          "execution_count": 8
        },
        {
          "output_type": "display_data",
          "data": {
            "image/png": "[encoded data removed]",
            "text/plain": [
              "<Figure size 432x288 with 1 Axes>"
            ]
          },
          "metadata": {
            "tags": []
          }
        }
      ]
    },
    {
      "cell_type": "markdown",
      "metadata": {
        "id": "UOnhQHbGTZ4U",
        "colab_type": "text"
      },
      "source": [
        "Leaky ReLU"
      ]
    },
    {
      "cell_type": "code",
      "metadata": {
        "id": "VWZ2um0LQFn7",
        "colab_type": "code",
        "outputId": "e9395b3c-7886-42ab-fef4-a92fb35d5be8",
        "colab": {
          "base_uri": "https://localhost:8080/",
          "height": 282
        }
      },
      "source": [
        "    def l_relu(x):\n",
        "      if(x>0):\n",
        "        return x\n",
        "      else:\n",
        "        return (0.01)*x\n",
        "    \n",
        "    y=[]\n",
        "    for i in xx:\n",
        "       y.append(l_relu(i))\n",
        "\n",
        "    plt.plot(xx,y) "
      ],
      "execution_count": 0,
      "outputs": [
        {
          "output_type": "execute_result",
          "data": {
            "text/plain": [
              "[<matplotlib.lines.Line2D at 0x7f4640c85358>]"
            ]
          },
          "metadata": {
            "tags": []
          },
          "execution_count": 9
        },
        {
          "output_type": "display_data",
          "data": {
            "image/png": "[encoded data removed]",
            "text/plain": [
              "<Figure size 432x288 with 1 Axes>"
            ]
          },
          "metadata": {
            "tags": []
          }
        }
      ]
    },
    {
      "cell_type": "markdown",
      "metadata": {
        "id": "HVxFMjzhUSqC",
        "colab_type": "text"
      },
      "source": [
        "ELU\n"
      ]
    },
    {
      "cell_type": "code",
      "metadata": {
        "id": "VOoseFO7T2DL",
        "colab_type": "code",
        "outputId": "33e760ff-3abd-448c-b6dd-ddd1353e4c75",
        "colab": {
          "base_uri": "https://localhost:8080/",
          "height": 282
        }
      },
      "source": [
        "  def elu(x):\n",
        "      if(x>0):\n",
        "        return x\n",
        "      else:\n",
        "        return (0.1)*(np.exp(x)-1)\n",
        "\n",
        "\n",
        "  y=[]\n",
        "  for i in xx:\n",
        "    y.append(elu(i))\n",
        "\n",
        "  plt.plot(xx,y) "
      ],
      "execution_count": 0,
      "outputs": [
        {
          "output_type": "execute_result",
          "data": {
            "text/plain": [
              "[<matplotlib.lines.Line2D at 0x7f4640bec5f8>]"
            ]
          },
          "metadata": {
            "tags": []
          },
          "execution_count": 10
        },
        {
          "output_type": "display_data",
          "data": {
            "image/png": "[encoded data removed]",
            "text/plain": [
              "<Figure size 432x288 with 1 Axes>"
            ]
          },
          "metadata": {
            "tags": []
          }
        }
      ]
    },
    {
      "cell_type": "markdown",
      "metadata": {
        "id": "-mtqRpYoXx52",
        "colab_type": "text"
      },
      "source": [
        "Softmax\n"
      ]
    },
    {
      "cell_type": "code",
      "metadata": {
        "id": "vzRhoXijWWyV",
        "colab_type": "code",
        "outputId": "13987ede-77ea-4a59-84c4-2e50e8d45acf",
        "colab": {
          "base_uri": "https://localhost:8080/",
          "height": 300
        }
      },
      "source": [
        "z=list(range(-7,7))\n",
        "\n",
        "def summ(z):\n",
        "  s=0\n",
        "  for i in range(len(z)):\n",
        "    s=s+(np.exp(z[i]))\n",
        "  \n",
        "  return s\n",
        "\n",
        "def softmax(z,i):\n",
        "  return ((np.exp(i))/summ(z))\n",
        "\n",
        "y=[]\n",
        "print(z)\n",
        "\n",
        "for i in z:\n",
        "  y.append(softmax(z,i))\n",
        "plt.plot(z,y)"
      ],
      "execution_count": 0,
      "outputs": [
        {
          "output_type": "stream",
          "text": [
            "[-7, -6, -5, -4, -3, -2, -1, 0, 1, 2, 3, 4, 5, 6]\n"
          ],
          "name": "stdout"
        },
        {
          "output_type": "execute_result",
          "data": {
            "text/plain": [
              "[<matplotlib.lines.Line2D at 0x7f4640b61080>]"
            ]
          },
          "metadata": {
            "tags": []
          },
          "execution_count": 11
        },
        {
          "output_type": "display_data",
          "data": {
            "image/png": "[encoded data removed]",
            "text/plain": [
              "<Figure size 432x288 with 1 Axes>"
            ]
          },
          "metadata": {
            "tags": []
          }
        }
      ]
    },
    {
      "cell_type": "code",
      "metadata": {
        "id": "Kiz8N6q3YQXn",
        "colab_type": "code",
        "colab": {}
      },
      "source": [
        ""
      ],
      "execution_count": 0,
      "outputs": []
    }
  ]
}